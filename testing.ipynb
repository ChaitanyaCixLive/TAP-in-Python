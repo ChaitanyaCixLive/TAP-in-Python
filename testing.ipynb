{
 "metadata": {
  "name": "Untitled0"
 },
 "nbformat": 3,
 "nbformat_minor": 0,
 "worksheets": [
  {
   "cells": [
    {
     "cell_type": "code",
     "collapsed": false,
     "input": [
      "import numpy as np\n",
      "import networkx as nx\n",
      "import random"
     ],
     "language": "python",
     "metadata": {},
     "outputs": [],
     "prompt_number": 1
    },
    {
     "cell_type": "code",
     "collapsed": false,
     "input": [
      "import matplotlib.pyplot as plt"
     ],
     "language": "python",
     "metadata": {},
     "outputs": [],
     "prompt_number": 2
    },
    {
     "cell_type": "code",
     "collapsed": false,
     "input": [
      "def calculate_w(i,j,z):\n",
      "    return theta[j,z] * alpha[i,j]"
     ],
     "language": "python",
     "metadata": {},
     "outputs": [],
     "prompt_number": 3
    },
    {
     "cell_type": "code",
     "collapsed": false,
     "input": [
      "def calculate_g(i, y, z):\n",
      "    \"\"\"eq. 1\"\"\"\n",
      "\n",
      "    if i != y:\n",
      "        ret = w[i,y,z] / sum( w[i,j,z] + w[j,i,z] for j in NB(i) )\n",
      "        return ret\n",
      "    else:\n",
      "        ret = sum( w[j,i,z] for j in NB(i) ) / sum( w[i,j,z] + w[j,i,z] for j in NB(i) )\n",
      "        return ret"
     ],
     "language": "python",
     "metadata": {},
     "outputs": [],
     "prompt_number": 4
    },
    {
     "cell_type": "code",
     "collapsed": false,
     "input": [
      "def calculate_b(i,j,z):\n",
      "    \"\"\"eq. 8\"\"\"\n",
      "    \n",
      "    _a = g[i,j,z]\n",
      "    _b = sum( [ g[i,k,z] for k in NB(i) + [i] ] )\n",
      "    return np.log(_a / _b)*-1."
     ],
     "language": "python",
     "metadata": {},
     "outputs": [],
     "prompt_number": 5
    },
    {
     "cell_type": "code",
     "collapsed": false,
     "input": [
      "def update_r(i,j,z):\n",
      "    \"\"\"eq. 5\"\"\"\n",
      "\n",
      "    a_ = b[i,j,z]\n",
      "    #try:\n",
      "    b_ = np.max( [ b[i,k,z] + a[i,k,z] for k in NB(j) ])\n",
      "    #except ValueError:\n",
      "    #    b_ = 0.\n",
      "    \n",
      "    ret = a_ - b_\n",
      "    return ret"
     ],
     "language": "python",
     "metadata": {},
     "outputs": [],
     "prompt_number": 6
    },
    {
     "cell_type": "code",
     "collapsed": false,
     "input": [
      "def update_a6(j, z):\n",
      "    \"\"\"eq. 6 & 7\"\"\"\n",
      "\n",
      "    ret = np.max( [ np.max([r[k,j,z], 0.]) for k in NB(j) ])\n",
      "    \n",
      "    return ret"
     ],
     "language": "python",
     "metadata": {},
     "outputs": [],
     "prompt_number": 7
    },
    {
     "cell_type": "code",
     "collapsed": false,
     "input": [
      "def update_a7(i,j,z):\n",
      "    if i in NB(j):\n",
      "        _a = max( r[j,j,z], 0. )\n",
      "        _b1 = min( r[j,j,z], 0. )\n",
      "        try:\n",
      "            _b2 = max( [ min( r[k,j,z], 0. ) for k in NB(j) if k != i ] )\n",
      "        except:\n",
      "            _b2 = 0.\n",
      "        \n",
      "        #_b = 0. - _b1 - _b2\n",
      "        _b = 0. - _b1 - _b2\n",
      "        return min(_a, _b)"
     ],
     "language": "python",
     "metadata": {},
     "outputs": [],
     "prompt_number": 158
    },
    {
     "cell_type": "code",
     "collapsed": false,
     "input": [
      "def compute_mu(s,t,z):\n",
      "    \"\"\"eq. 9\"\"\"\n",
      "    return 1. / ( 1. + math.exp( -1.* (r[t,s,z] + a[t,s,z]) ) )"
     ],
     "language": "python",
     "metadata": {},
     "outputs": [],
     "prompt_number": 9
    },
    {
     "cell_type": "code",
     "collapsed": false,
     "input": [
      "def NB(i):\n",
      "    \"\"\"neighbors of i\"\"\"\n",
      "    return G[i].keys()"
     ],
     "language": "python",
     "metadata": {},
     "outputs": [],
     "prompt_number": 10
    },
    {
     "cell_type": "code",
     "collapsed": false,
     "input": [
      "def a_step():\n",
      "    #print \"1.4 - 1.7\"\n",
      "    for i,j in G.edges():\n",
      "        for z in xrange(Z):\n",
      "            r[i,j,z] = update_r(i,j,z)\n",
      "            r[j,i,z] = update_r(j,i,z)\n",
      "    for z in xrange(Z):\n",
      "        shift = r[:,:,z] + np.min(r[:,:,z])\n",
      "        r[:,:,z] = shift/np.sum(shift)"
     ],
     "language": "python",
     "metadata": {},
     "outputs": [],
     "prompt_number": 11
    },
    {
     "cell_type": "code",
     "collapsed": false,
     "input": [
      "def b_step():\n",
      "    #print \"1.8 - 1.10\"\n",
      "    for j in xrange(N):\n",
      "        for z in xrange(Z):\n",
      "            a[j,j,z] = update_a6(j,z)"
     ],
     "language": "python",
     "metadata": {},
     "outputs": [],
     "prompt_number": 12
    },
    {
     "cell_type": "code",
     "collapsed": false,
     "input": [
      "def c_step():\n",
      "    #print \"1.11 - 1.13\"\n",
      "    for i,j in G.edges():\n",
      "        for z in xrange(Z):\n",
      "            if i != j:\n",
      "                a[i,j,z] = update_a7(i,j,z)\n",
      "                a[j,i,z] = update_a7(j,i,z)\n",
      "    for z in xrange(Z):\n",
      "        shift = a[:,:,z] + np.min(a[:,:,z])\n",
      "        a[:,:,z] = shift/np.sum(shift)        "
     ],
     "language": "python",
     "metadata": {},
     "outputs": [],
     "prompt_number": 13
    },
    {
     "cell_type": "code",
     "collapsed": false,
     "input": [
      "def iterate():\n",
      "    a_step()\n",
      "    b_step()\n",
      "    c_step()"
     ],
     "language": "python",
     "metadata": {},
     "outputs": [],
     "prompt_number": 14
    },
    {
     "cell_type": "code",
     "collapsed": false,
     "input": [
      "a_step()"
     ],
     "language": "python",
     "metadata": {},
     "outputs": [],
     "prompt_number": 1241
    },
    {
     "cell_type": "code",
     "collapsed": false,
     "input": [
      "b_step()"
     ],
     "language": "python",
     "metadata": {},
     "outputs": [],
     "prompt_number": 1242
    },
    {
     "cell_type": "code",
     "collapsed": false,
     "input": [
      "c_step()"
     ],
     "language": "python",
     "metadata": {},
     "outputs": [],
     "prompt_number": 1243
    },
    {
     "cell_type": "code",
     "collapsed": false,
     "input": [
      "N = 100\n",
      "Z = 5\n",
      "degree = 20"
     ],
     "language": "python",
     "metadata": {},
     "outputs": [],
     "prompt_number": 426
    },
    {
     "cell_type": "code",
     "collapsed": false,
     "input": [
      "print \"Generate random graph.\"\n",
      "G = nx.random_regular_graph(degree, N)\n",
      "for i,j in G.edges():\n",
      "    G[i][j]['weight'] = random.random() + 0.01"
     ],
     "language": "python",
     "metadata": {},
     "outputs": [
      {
       "output_type": "stream",
       "stream": "stdout",
       "text": [
        "Generate random graph.\n"
       ]
      }
     ],
     "prompt_number": 593
    },
    {
     "cell_type": "code",
     "collapsed": false,
     "input": [
      "alpha = nx.to_numpy_matrix(G)"
     ],
     "language": "python",
     "metadata": {},
     "outputs": [],
     "prompt_number": 122
    },
    {
     "cell_type": "code",
     "collapsed": false,
     "input": [
      "theta_ = np.random.rand(N,Z)\n",
      "theta = np.zeros((N,Z))\n",
      "for i in xrange(N):\n",
      "    theta[i,:] = np.array([ (theta_[i,j]+0.0001)/(np.sum(theta_[i,:])+(0.0001*Z)) for j in xrange(Z)])"
     ],
     "language": "python",
     "metadata": {},
     "outputs": [],
     "prompt_number": 595
    },
    {
     "cell_type": "code",
     "collapsed": false,
     "input": [
      "theta = author_topics\n",
      "del author_topics"
     ],
     "language": "python",
     "metadata": {},
     "outputs": [],
     "prompt_number": 123
    },
    {
     "cell_type": "code",
     "collapsed": false,
     "input": [
      "w = np.zeros((N, N, Z))\n",
      "for i,j in G.edges():\n",
      "    for z in xrange(Z):\n",
      "        w[i,j,z] = calculate_w(i,j,z)\n",
      "        w[j,i,z] = calculate_w(j,i,z)"
     ],
     "language": "python",
     "metadata": {},
     "outputs": [],
     "prompt_number": 124
    },
    {
     "cell_type": "code",
     "collapsed": false,
     "input": [
      "print G.edges(data=True)[1]\n",
      "print w[0,1531,:]"
     ],
     "language": "python",
     "metadata": {},
     "outputs": [
      {
       "output_type": "stream",
       "stream": "stdout",
       "text": [
        "(0, 1531, {'weight': 1})\n",
        "[  1.18483412e-04   1.18483412e-04   2.38151659e-02   1.18483412e-04\n",
        "   1.18483412e-04   1.18483412e-04   2.48933649e-01   3.79265403e-01\n",
        "   1.18483412e-04   1.18483412e-04   1.18483412e-04   1.18483412e-04\n",
        "   1.18483412e-04   1.18483412e-04   1.18483412e-04   1.18483412e-04\n",
        "   1.18483412e-04   1.18483412e-04   1.18601896e-01   1.18483412e-04\n",
        "   1.18483412e-04   1.18483412e-04   1.18483412e-04   1.18483412e-04\n",
        "   1.18483412e-04   1.18483412e-04   5.93601896e-02   9.49052133e-02\n",
        "   1.18483412e-04   7.12085308e-02   1.18483412e-04   1.18483412e-04\n",
        "   1.18483412e-04   1.18483412e-04   1.18483412e-04   1.18483412e-04\n",
        "   1.18483412e-04   1.18483412e-04   1.18483412e-04   1.18483412e-04]\n"
       ]
      }
     ],
     "prompt_number": 126
    },
    {
     "cell_type": "code",
     "collapsed": false,
     "input": [
      "print \"1.1 Calculate the node feature function g(v_i, y_i, z);\"\n",
      "g = np.zeros((N, N, Z))\n",
      "for i,j in G.edges():\n",
      "    for z in xrange(Z):\n",
      "            g[i,j,z] = calculate_g(i,j,z)\n",
      "            g[j,i,z] = calculate_g(j,i,z)\n",
      "del w"
     ],
     "language": "python",
     "metadata": {},
     "outputs": [
      {
       "output_type": "stream",
       "stream": "stdout",
       "text": [
        "1.1 Calculate the node feature function g(v_i, y_i, z);\n"
       ]
      }
     ],
     "prompt_number": 127
    },
    {
     "cell_type": "code",
     "collapsed": false,
     "input": [
      "print g[0,1531,:]"
     ],
     "language": "python",
     "metadata": {},
     "outputs": [
      {
       "output_type": "stream",
       "stream": "stdout",
       "text": [
        "[  8.67446990e-04   1.16205614e-02   1.98399737e-01   8.96396166e-02\n",
        "   2.31186220e-02   3.96981010e-03   2.06089673e-01   1.95620017e-01\n",
        "   1.16205614e-02   3.80805840e-03   1.58291962e-03   6.42660952e-03\n",
        "   3.67573037e-02   8.96396166e-02   7.76074851e-03   2.31186220e-02\n",
        "   8.96396166e-02   2.27713836e-03   9.08449658e-02   8.96396166e-02\n",
        "   9.88545900e-04   5.53523504e-05   9.30631161e-03   3.14443375e-04\n",
        "   8.96396166e-02   1.42847621e-02   1.77261936e-01   1.75684974e-01\n",
        "   1.85339737e-02   1.62911680e-01   2.12202916e-03   6.05852034e-02\n",
        "   1.29163496e-03   1.54377204e-04   1.13916060e-03   8.96396166e-02\n",
        "   8.96396166e-02   8.96396166e-02   7.76074851e-03   9.79393007e-03]\n"
       ]
      }
     ],
     "prompt_number": 128
    },
    {
     "cell_type": "code",
     "collapsed": false,
     "input": [
      "print \"1.2 Calculate b_ij^z according to Eq. 8;\"\n",
      "b = np.zeros((N, N, Z))\n",
      "for i,j in G.edges():\n",
      "    for z in xrange(Z):\n",
      "        b[i,j,z] = calculate_b(i, j, z)\n",
      "        b[j,i,z] = calculate_b(j, i, z)\n",
      "del g"
     ],
     "language": "python",
     "metadata": {},
     "outputs": [
      {
       "output_type": "stream",
       "stream": "stdout",
       "text": [
        "1.2 Calculate b_ij^z according to Eq. 8;\n"
       ]
      }
     ],
     "prompt_number": 129
    },
    {
     "cell_type": "code",
     "collapsed": false,
     "input": [
      "print b[0,1531,:]"
     ],
     "language": "python",
     "metadata": {},
     "outputs": [
      {
       "output_type": "stream",
       "stream": "stdout",
       "text": [
        "[ 3.62985658  4.38833913  1.15457466  1.72419712  3.62985658  5.5067673\n",
        "  1.09902598  1.18219973  4.38833913  5.54928326  6.43966382  5.01100375\n",
        "  3.07536162  1.72419712  4.81466733  3.62985658  1.72419712  6.07212223\n",
        "  1.17653285  1.72419712  6.91377617  8.79408998  4.62405269  6.6472259\n",
        "  1.72419712  4.1659968   1.33097502  1.34498631  3.87964867  1.2995085\n",
        "  6.14354014  2.39406205  5.98849459  7.41699731  6.77112376  1.72419712\n",
        "  1.72419712  1.72419712  4.81466733  4.57012618]\n"
       ]
      }
     ],
     "prompt_number": 130
    },
    {
     "cell_type": "code",
     "collapsed": false,
     "input": [
      "print \"1.3 Initalize all {r_ij^z} <- 0;\"\n",
      "r = np.zeros((N, N, Z)) # 1.3\n",
      "a = np.zeros((N, N, Z))"
     ],
     "language": "python",
     "metadata": {},
     "outputs": [
      {
       "output_type": "stream",
       "stream": "stdout",
       "text": [
        "1.3 Initalize all {r_ij^z} <- 0;\n"
       ]
      }
     ],
     "prompt_number": 131
    },
    {
     "cell_type": "code",
     "collapsed": false,
     "input": [
      "r_m = []"
     ],
     "language": "python",
     "metadata": {},
     "outputs": [],
     "prompt_number": 242
    },
    {
     "cell_type": "code",
     "collapsed": false,
     "input": [
      "a_step()"
     ],
     "language": "python",
     "metadata": {},
     "outputs": [],
     "prompt_number": 137
    },
    {
     "cell_type": "code",
     "collapsed": false,
     "input": [
      "b_step()"
     ],
     "language": "python",
     "metadata": {},
     "outputs": [],
     "prompt_number": 145
    },
    {
     "cell_type": "code",
     "collapsed": false,
     "input": [
      "c_step()"
     ],
     "language": "python",
     "metadata": {},
     "outputs": [],
     "prompt_number": 269
    },
    {
     "cell_type": "code",
     "collapsed": false,
     "input": [
      "b[0,1531,:]"
     ],
     "language": "python",
     "metadata": {},
     "outputs": [
      {
       "output_type": "pyout",
       "prompt_number": 143,
       "text": [
        "array([ 3.62985658,  4.38833913,  1.15457466,  1.72419712,  3.62985658,\n",
        "        5.5067673 ,  1.09902598,  1.18219973,  4.38833913,  5.54928326,\n",
        "        6.43966382,  5.01100375,  3.07536162,  1.72419712,  4.81466733,\n",
        "        3.62985658,  1.72419712,  6.07212223,  1.17653285,  1.72419712,\n",
        "        6.91377617,  8.79408998,  4.62405269,  6.6472259 ,  1.72419712,\n",
        "        4.1659968 ,  1.33097502,  1.34498631,  3.87964867,  1.2995085 ,\n",
        "        6.14354014,  2.39406205,  5.98849459,  7.41699731,  6.77112376,\n",
        "        1.72419712,  1.72419712,  1.72419712,  4.81466733,  4.57012618])"
       ]
      }
     ],
     "prompt_number": 143
    },
    {
     "cell_type": "code",
     "collapsed": false,
     "input": [
      "r[0,1531,:]"
     ],
     "language": "python",
     "metadata": {},
     "outputs": [
      {
       "output_type": "pyout",
       "prompt_number": 142,
       "text": [
        "array([  3.64516144e-07,   3.64478517e-07,   3.64521909e-07,\n",
        "         3.64542083e-07,   3.64498869e-07,   3.64472809e-07,\n",
        "         3.64589041e-07,   3.64468942e-07,   3.64555086e-07,\n",
        "         3.64492682e-07,   3.64581150e-07,   3.64524156e-07,\n",
        "         3.64560146e-07,   3.64526962e-07,   3.64516302e-07,\n",
        "         3.64548025e-07,   3.64564059e-07,   3.64509881e-07,\n",
        "         3.64501756e-07,   3.64516479e-07,   3.64520461e-07,\n",
        "         3.64532587e-07,   3.64542353e-07,   3.64497196e-07,\n",
        "         3.64547287e-07,   3.64519289e-07,   3.64481498e-07,\n",
        "         3.64484157e-07,   3.64489485e-07,   3.64508635e-07,\n",
        "         3.64498217e-07,   3.64540871e-07,   3.64541713e-07,\n",
        "         3.64523141e-07,   3.64506791e-07,   3.64520126e-07,\n",
        "         3.64529302e-07,   3.64537237e-07,   3.64516686e-07,\n",
        "         3.64518309e-07])"
       ]
      }
     ],
     "prompt_number": 142
    },
    {
     "cell_type": "code",
     "collapsed": false,
     "input": [
      "update_a7(0,1531,1)"
     ],
     "language": "python",
     "metadata": {},
     "outputs": [
      {
       "output_type": "pyout",
       "prompt_number": 161,
       "text": [
        "0.0"
       ]
      }
     ],
     "prompt_number": 161
    },
    {
     "cell_type": "code",
     "collapsed": false,
     "input": [
      "a[0,1531,:]"
     ],
     "language": "python",
     "metadata": {},
     "outputs": [
      {
       "output_type": "pyout",
       "prompt_number": 150,
       "text": [
        "array([ 0.,  0.,  0.,  0.,  0.,  0.,  0.,  0.,  0.,  0.,  0.,  0.,  0.,\n",
        "        0.,  0.,  0.,  0.,  0.,  0.,  0.,  0.,  0.,  0.,  0.,  0.,  0.,\n",
        "        0.,  0.,  0.,  0.,  0.,  0.,  0.,  0.,  0.,  0.,  0.,  0.,  0.,  0.])"
       ]
      }
     ],
     "prompt_number": 150
    },
    {
     "cell_type": "code",
     "collapsed": false,
     "input": [
      "for i in xrange(10):\n",
      "    iterate()\n",
      "   # r_m.append(np.mean(r))\n",
      "    print r[0,666,0:5]"
     ],
     "language": "python",
     "metadata": {},
     "outputs": [
      {
       "output_type": "stream",
       "stream": "stdout",
       "text": [
        "[  7.02513223e-08   6.07512958e-08   3.20525629e-08   9.20657962e-08\n",
        "   7.08217954e-08]\n",
        "[  7.02513326e-08   6.07513017e-08   3.20525689e-08   9.20658005e-08\n",
        "   7.08217998e-08]"
       ]
      },
      {
       "output_type": "stream",
       "stream": "stdout",
       "text": [
        "\n",
        "[  7.02513326e-08   6.07513017e-08   3.20525689e-08   9.20658005e-08\n",
        "   7.08217998e-08]"
       ]
      },
      {
       "output_type": "stream",
       "stream": "stdout",
       "text": [
        "\n",
        "[  7.02513326e-08   6.07513017e-08   3.20525689e-08   9.20658005e-08\n",
        "   7.08217998e-08]"
       ]
      },
      {
       "ename": "KeyboardInterrupt",
       "evalue": "",
       "output_type": "pyerr",
       "traceback": [
        "\u001b[0;31m---------------------------------------------------------------------------\u001b[0m\n\u001b[0;31mKeyboardInterrupt\u001b[0m                         Traceback (most recent call last)",
        "\u001b[0;32m<ipython-input-96-0d3e0a4a82f0>\u001b[0m in \u001b[0;36m<module>\u001b[0;34m()\u001b[0m\n\u001b[1;32m      1\u001b[0m \u001b[0;32mfor\u001b[0m \u001b[0mi\u001b[0m \u001b[0;32min\u001b[0m \u001b[0mxrange\u001b[0m\u001b[0;34m(\u001b[0m\u001b[0;36m10\u001b[0m\u001b[0;34m)\u001b[0m\u001b[0;34m:\u001b[0m\u001b[0;34m\u001b[0m\u001b[0m\n\u001b[0;32m----> 2\u001b[0;31m     \u001b[0miterate\u001b[0m\u001b[0;34m(\u001b[0m\u001b[0;34m)\u001b[0m\u001b[0;34m\u001b[0m\u001b[0m\n\u001b[0m\u001b[1;32m      3\u001b[0m    \u001b[0;31m# r_m.append(np.mean(r))\u001b[0m\u001b[0;34m\u001b[0m\u001b[0;34m\u001b[0m\u001b[0m\n\u001b[1;32m      4\u001b[0m     \u001b[0;32mprint\u001b[0m \u001b[0mr\u001b[0m\u001b[0;34m[\u001b[0m\u001b[0;36m0\u001b[0m\u001b[0;34m,\u001b[0m\u001b[0;36m666\u001b[0m\u001b[0;34m,\u001b[0m\u001b[0;36m0\u001b[0m\u001b[0;34m:\u001b[0m\u001b[0;36m5\u001b[0m\u001b[0;34m]\u001b[0m\u001b[0;34m\u001b[0m\u001b[0m\n",
        "\u001b[0;32m<ipython-input-14-b398d208f9df>\u001b[0m in \u001b[0;36miterate\u001b[0;34m()\u001b[0m\n\u001b[1;32m      1\u001b[0m \u001b[0;32mdef\u001b[0m \u001b[0miterate\u001b[0m\u001b[0;34m(\u001b[0m\u001b[0;34m)\u001b[0m\u001b[0;34m:\u001b[0m\u001b[0;34m\u001b[0m\u001b[0m\n\u001b[0;32m----> 2\u001b[0;31m     \u001b[0ma_step\u001b[0m\u001b[0;34m(\u001b[0m\u001b[0;34m)\u001b[0m\u001b[0;34m\u001b[0m\u001b[0m\n\u001b[0m\u001b[1;32m      3\u001b[0m     \u001b[0mb_step\u001b[0m\u001b[0;34m(\u001b[0m\u001b[0;34m)\u001b[0m\u001b[0;34m\u001b[0m\u001b[0m\n\u001b[1;32m      4\u001b[0m     \u001b[0mc_step\u001b[0m\u001b[0;34m(\u001b[0m\u001b[0;34m)\u001b[0m\u001b[0;34m\u001b[0m\u001b[0m\n",
        "\u001b[0;32m<ipython-input-11-1c10b17483ea>\u001b[0m in \u001b[0;36ma_step\u001b[0;34m()\u001b[0m\n\u001b[1;32m      4\u001b[0m         \u001b[0;32mfor\u001b[0m \u001b[0mz\u001b[0m \u001b[0;32min\u001b[0m \u001b[0mxrange\u001b[0m\u001b[0;34m(\u001b[0m\u001b[0mZ\u001b[0m\u001b[0;34m)\u001b[0m\u001b[0;34m:\u001b[0m\u001b[0;34m\u001b[0m\u001b[0m\n\u001b[1;32m      5\u001b[0m             \u001b[0mr\u001b[0m\u001b[0;34m[\u001b[0m\u001b[0mi\u001b[0m\u001b[0;34m,\u001b[0m\u001b[0mj\u001b[0m\u001b[0;34m,\u001b[0m\u001b[0mz\u001b[0m\u001b[0;34m]\u001b[0m \u001b[0;34m=\u001b[0m \u001b[0mupdate_r\u001b[0m\u001b[0;34m(\u001b[0m\u001b[0mi\u001b[0m\u001b[0;34m,\u001b[0m\u001b[0mj\u001b[0m\u001b[0;34m,\u001b[0m\u001b[0mz\u001b[0m\u001b[0;34m)\u001b[0m\u001b[0;34m\u001b[0m\u001b[0m\n\u001b[0;32m----> 6\u001b[0;31m             \u001b[0mr\u001b[0m\u001b[0;34m[\u001b[0m\u001b[0mj\u001b[0m\u001b[0;34m,\u001b[0m\u001b[0mi\u001b[0m\u001b[0;34m,\u001b[0m\u001b[0mz\u001b[0m\u001b[0;34m]\u001b[0m \u001b[0;34m=\u001b[0m \u001b[0mupdate_r\u001b[0m\u001b[0;34m(\u001b[0m\u001b[0mj\u001b[0m\u001b[0;34m,\u001b[0m\u001b[0mi\u001b[0m\u001b[0;34m,\u001b[0m\u001b[0mz\u001b[0m\u001b[0;34m)\u001b[0m\u001b[0;34m\u001b[0m\u001b[0m\n\u001b[0m\u001b[1;32m      7\u001b[0m     \u001b[0;32mfor\u001b[0m \u001b[0mz\u001b[0m \u001b[0;32min\u001b[0m \u001b[0mxrange\u001b[0m\u001b[0;34m(\u001b[0m\u001b[0mZ\u001b[0m\u001b[0;34m)\u001b[0m\u001b[0;34m:\u001b[0m\u001b[0;34m\u001b[0m\u001b[0m\n\u001b[1;32m      8\u001b[0m         \u001b[0mshift\u001b[0m \u001b[0;34m=\u001b[0m \u001b[0mr\u001b[0m\u001b[0;34m[\u001b[0m\u001b[0;34m:\u001b[0m\u001b[0;34m,\u001b[0m\u001b[0;34m:\u001b[0m\u001b[0;34m,\u001b[0m\u001b[0mz\u001b[0m\u001b[0;34m]\u001b[0m \u001b[0;34m+\u001b[0m \u001b[0mnp\u001b[0m\u001b[0;34m.\u001b[0m\u001b[0mmin\u001b[0m\u001b[0;34m(\u001b[0m\u001b[0mr\u001b[0m\u001b[0;34m[\u001b[0m\u001b[0;34m:\u001b[0m\u001b[0;34m,\u001b[0m\u001b[0;34m:\u001b[0m\u001b[0;34m,\u001b[0m\u001b[0mz\u001b[0m\u001b[0;34m]\u001b[0m\u001b[0;34m)\u001b[0m\u001b[0;34m\u001b[0m\u001b[0m\n",
        "\u001b[0;32m<ipython-input-6-043c03ab9a4d>\u001b[0m in \u001b[0;36mupdate_r\u001b[0;34m(i, j, z)\u001b[0m\n\u001b[1;32m      4\u001b[0m     \u001b[0ma_\u001b[0m \u001b[0;34m=\u001b[0m \u001b[0mb\u001b[0m\u001b[0;34m[\u001b[0m\u001b[0mi\u001b[0m\u001b[0;34m,\u001b[0m\u001b[0mj\u001b[0m\u001b[0;34m,\u001b[0m\u001b[0mz\u001b[0m\u001b[0;34m]\u001b[0m\u001b[0;34m\u001b[0m\u001b[0m\n\u001b[1;32m      5\u001b[0m     \u001b[0;31m#try:\u001b[0m\u001b[0;34m\u001b[0m\u001b[0;34m\u001b[0m\u001b[0m\n\u001b[0;32m----> 6\u001b[0;31m     \u001b[0mb_\u001b[0m \u001b[0;34m=\u001b[0m \u001b[0mnp\u001b[0m\u001b[0;34m.\u001b[0m\u001b[0mmax\u001b[0m\u001b[0;34m(\u001b[0m \u001b[0;34m[\u001b[0m \u001b[0mb\u001b[0m\u001b[0;34m[\u001b[0m\u001b[0mi\u001b[0m\u001b[0;34m,\u001b[0m\u001b[0mk\u001b[0m\u001b[0;34m,\u001b[0m\u001b[0mz\u001b[0m\u001b[0;34m]\u001b[0m \u001b[0;34m+\u001b[0m \u001b[0ma\u001b[0m\u001b[0;34m[\u001b[0m\u001b[0mi\u001b[0m\u001b[0;34m,\u001b[0m\u001b[0mk\u001b[0m\u001b[0;34m,\u001b[0m\u001b[0mz\u001b[0m\u001b[0;34m]\u001b[0m \u001b[0;32mfor\u001b[0m \u001b[0mk\u001b[0m \u001b[0;32min\u001b[0m \u001b[0mNB\u001b[0m\u001b[0;34m(\u001b[0m\u001b[0mj\u001b[0m\u001b[0;34m)\u001b[0m \u001b[0;34m]\u001b[0m\u001b[0;34m)\u001b[0m\u001b[0;34m\u001b[0m\u001b[0m\n\u001b[0m\u001b[1;32m      7\u001b[0m     \u001b[0;31m#except ValueError:\u001b[0m\u001b[0;34m\u001b[0m\u001b[0;34m\u001b[0m\u001b[0m\n\u001b[1;32m      8\u001b[0m     \u001b[0;31m#    b_ = 0.\u001b[0m\u001b[0;34m\u001b[0m\u001b[0;34m\u001b[0m\u001b[0m\n",
        "\u001b[0;32m/Applications/anaconda/lib/python2.7/site-packages/numpy/core/fromnumeric.pyc\u001b[0m in \u001b[0;36mamax\u001b[0;34m(a, axis, out, keepdims)\u001b[0m\n\u001b[1;32m   1909\u001b[0m         \u001b[0;32mexcept\u001b[0m \u001b[0mAttributeError\u001b[0m\u001b[0;34m:\u001b[0m\u001b[0;34m\u001b[0m\u001b[0m\n\u001b[1;32m   1910\u001b[0m             return _methods._amax(a, axis=axis,\n\u001b[0;32m-> 1911\u001b[0;31m                                 out=out, keepdims=keepdims)\n\u001b[0m\u001b[1;32m   1912\u001b[0m         \u001b[0;31m# NOTE: Dropping and keepdims parameter\u001b[0m\u001b[0;34m\u001b[0m\u001b[0;34m\u001b[0m\u001b[0m\n\u001b[1;32m   1913\u001b[0m         \u001b[0;32mreturn\u001b[0m \u001b[0mamax\u001b[0m\u001b[0;34m(\u001b[0m\u001b[0maxis\u001b[0m\u001b[0;34m=\u001b[0m\u001b[0maxis\u001b[0m\u001b[0;34m,\u001b[0m \u001b[0mout\u001b[0m\u001b[0;34m=\u001b[0m\u001b[0mout\u001b[0m\u001b[0;34m)\u001b[0m\u001b[0;34m\u001b[0m\u001b[0m\n",
        "\u001b[0;32m/Applications/anaconda/lib/python2.7/site-packages/numpy/core/_methods.pyc\u001b[0m in \u001b[0;36m_amax\u001b[0;34m(a, axis, out, keepdims)\u001b[0m\n\u001b[1;32m      8\u001b[0m \u001b[0;32mdef\u001b[0m \u001b[0m_amax\u001b[0m\u001b[0;34m(\u001b[0m\u001b[0ma\u001b[0m\u001b[0;34m,\u001b[0m \u001b[0maxis\u001b[0m\u001b[0;34m=\u001b[0m\u001b[0mNone\u001b[0m\u001b[0;34m,\u001b[0m \u001b[0mout\u001b[0m\u001b[0;34m=\u001b[0m\u001b[0mNone\u001b[0m\u001b[0;34m,\u001b[0m \u001b[0mkeepdims\u001b[0m\u001b[0;34m=\u001b[0m\u001b[0mFalse\u001b[0m\u001b[0;34m)\u001b[0m\u001b[0;34m:\u001b[0m\u001b[0;34m\u001b[0m\u001b[0m\n\u001b[1;32m      9\u001b[0m     return um.maximum.reduce(a, axis=axis,\n\u001b[0;32m---> 10\u001b[0;31m                             out=out, keepdims=keepdims)\n\u001b[0m\u001b[1;32m     11\u001b[0m \u001b[0;34m\u001b[0m\u001b[0m\n\u001b[1;32m     12\u001b[0m \u001b[0;32mdef\u001b[0m \u001b[0m_amin\u001b[0m\u001b[0;34m(\u001b[0m\u001b[0ma\u001b[0m\u001b[0;34m,\u001b[0m \u001b[0maxis\u001b[0m\u001b[0;34m=\u001b[0m\u001b[0mNone\u001b[0m\u001b[0;34m,\u001b[0m \u001b[0mout\u001b[0m\u001b[0;34m=\u001b[0m\u001b[0mNone\u001b[0m\u001b[0;34m,\u001b[0m \u001b[0mkeepdims\u001b[0m\u001b[0;34m=\u001b[0m\u001b[0mFalse\u001b[0m\u001b[0;34m)\u001b[0m\u001b[0;34m:\u001b[0m\u001b[0;34m\u001b[0m\u001b[0m\n",
        "\u001b[0;31mKeyboardInterrupt\u001b[0m: "
       ]
      },
      {
       "output_type": "stream",
       "stream": "stdout",
       "text": [
        "\n"
       ]
      }
     ],
     "prompt_number": 96
    },
    {
     "cell_type": "code",
     "collapsed": false,
     "input": [
      " plt.plot(range(50),r_m[-50:] )"
     ],
     "language": "python",
     "metadata": {},
     "outputs": [
      {
       "output_type": "pyout",
       "prompt_number": 448,
       "text": [
        "[<matplotlib.lines.Line2D at 0x13104a750>]"
       ]
      },
      {
       "output_type": "display_data",
       "png": "[encoded data removed]"
      }
     ],
     "prompt_number": 448
    },
    {
     "cell_type": "code",
     "collapsed": false,
     "input": [
      "np.mean(r)"
     ],
     "language": "python",
     "metadata": {},
     "outputs": [
      {
       "output_type": "pyout",
       "prompt_number": 169,
       "text": [
        "0.00086505190311420932"
       ]
      }
     ],
     "prompt_number": 169
    },
    {
     "cell_type": "code",
     "collapsed": false,
     "input": [
      "print [ compute_mu(0, 666, z) for z in xrange(Z) ]"
     ],
     "language": "python",
     "metadata": {},
     "outputs": []
    },
    {
     "cell_type": "code",
     "collapsed": false,
     "input": [
      "a[0,10,:]"
     ],
     "language": "python",
     "metadata": {},
     "outputs": [
      {
       "output_type": "pyout",
       "prompt_number": 276,
       "text": [
        "array([ 0.,  0.,  0.,  0.,  0.,  0.,  0.,  0.,  0.,  0.,  0.,  0.,  0.,\n",
        "        0.,  0.,  0.,  0.,  0.,  0.,  0.,  0.,  0.,  0.,  0.,  0.,  0.,\n",
        "        0.,  0.,  0.,  0.,  0.,  0.,  0.,  0.,  0.,  0.,  0.,  0.,  0.,  0.])"
       ]
      }
     ],
     "prompt_number": 276
    },
    {
     "cell_type": "code",
     "collapsed": false,
     "input": [
      "plt.figure()\n",
      "plt.yscale('log')\n",
      "plt.hist(r[:,2,0], bins=60)\n",
      "plt.show()"
     ],
     "language": "python",
     "metadata": {},
     "outputs": [
      {
       "output_type": "display_data",
       "png": "[encoded data removed]"
      }
     ],
     "prompt_number": 1282
    },
    {
     "cell_type": "code",
     "collapsed": false,
     "input": [
      "G.edges()[3]"
     ],
     "language": "python",
     "metadata": {},
     "outputs": [
      {
       "output_type": "pyout",
       "prompt_number": 1290,
       "text": [
        "(0, 1277)"
       ]
      }
     ],
     "prompt_number": 1290
    },
    {
     "cell_type": "code",
     "collapsed": false,
     "input": [
      "r[0,1277,0]"
     ],
     "language": "python",
     "metadata": {},
     "outputs": [
      {
       "output_type": "pyout",
       "prompt_number": 1291,
       "text": [
        "0.0"
       ]
      }
     ],
     "prompt_number": 1291
    },
    {
     "cell_type": "code",
     "collapsed": false,
     "input": [
      "compute_mu(0,10,0)"
     ],
     "language": "python",
     "metadata": {},
     "outputs": [
      {
       "output_type": "pyout",
       "prompt_number": 463,
       "text": [
        "0.5798710849814861"
       ]
      }
     ],
     "prompt_number": 463
    },
    {
     "cell_type": "code",
     "collapsed": false,
     "input": [
      "X = []\n",
      "Y = []\n",
      "for i,j,d in G.edges(data=True):\n",
      "    X.append(d['weight'])\n",
      "    Y.append(compute_mu(i,j,2))\n",
      "plt.plot(X, Y, 'ro')"
     ],
     "language": "python",
     "metadata": {},
     "outputs": [
      {
       "output_type": "pyout",
       "prompt_number": 1223,
       "text": [
        "[<matplotlib.lines.Line2D at 0x1208fd990>]"
       ]
      },
      {
       "output_type": "display_data",
       "png": "[encoded data removed]"
      }
     ],
     "prompt_number": 1223
    },
    {
     "cell_type": "code",
     "collapsed": false,
     "input": [
      "mus = []\n",
      "for i,j in G.edges():\n",
      "    for z in xrange(Z):\n",
      "        mus.append(compute_mu(i,j,z))\n",
      "plt.hist(mus, bins=60)\n",
      "plt.yscale('log')\n",
      "plt.show()"
     ],
     "language": "python",
     "metadata": {},
     "outputs": [
      {
       "output_type": "display_data",
       "png": "[encoded data removed]"
      }
     ],
     "prompt_number": 1224
    },
    {
     "cell_type": "code",
     "collapsed": false,
     "input": [
      "import math"
     ],
     "language": "python",
     "metadata": {},
     "outputs": [],
     "prompt_number": 166
    },
    {
     "cell_type": "code",
     "collapsed": false,
     "input": [
      "with open(\"./evo_devo.csv\", \"w\") as f:\n",
      "    for i,j in G.edges():\n",
      "        f.write(\"\\t\".join([str(i),str(j)] + [ str(compute_mu(i, j, z)) for z in xrange(Z) ]) + \"\\n\")\n",
      "        f.write(\"\\t\".join([str(j),str(i)] + [ str(compute_mu(j, i, z)) for z in xrange(Z) ]) + \"\\n\")                "
     ],
     "language": "python",
     "metadata": {},
     "outputs": [],
     "prompt_number": 273
    },
    {
     "cell_type": "code",
     "collapsed": false,
     "input": [
      "with open(\"./evo_devo_attr.csv\", \"w\") as f:\n",
      "    for i,j in G.edges():\n",
      "        f.write(\"\\t\".join([str(i)+\" (pp) \"+str(j)] + [ str(compute_mu(i, j, z)) for z in xrange(Z) ]) + \"\\n\")\n",
      "        f.write(\"\\t\".join([str(j)+\" (pp) \"+str(i)] + [ str(compute_mu(j, i, z)) for z in xrange(Z) ]) + \"\\n\")        "
     ],
     "language": "python",
     "metadata": {},
     "outputs": [],
     "prompt_number": 450
    },
    {
     "cell_type": "code",
     "collapsed": false,
     "input": [
      "with open(\"./evo_devo_topics.csv\", \"w\") as f:\n",
      "    for i in G.nodes():\n",
      "        f.write( \"\\t\".join([str(i)] + [ str(theta[i,z]) for z in xrange(Z) ])+\"\\n\")"
     ],
     "language": "python",
     "metadata": {},
     "outputs": [],
     "prompt_number": 451
    },
    {
     "cell_type": "code",
     "collapsed": false,
     "input": [
      "modelpath = \"/Users/erickpeirson/Dropbox/DigitalHPS/ED Journals/models/20131208_LSA_Gibbs_EvoDevo.npz\""
     ],
     "language": "python",
     "metadata": {},
     "outputs": [],
     "prompt_number": 15
    },
    {
     "cell_type": "code",
     "collapsed": false,
     "input": [
      "from vsm.model import tf, tfidf, ldacgsmulti\n",
      "from vsm.corpus.util import corpusbuilders\n",
      "import vsm.corpus\n",
      "from vsm.viewer import ldagibbsviewer, tfidfviewer\n",
      "import tethne.networks as nt\n",
      "import tethne.readers as rd\n",
      "import pickle"
     ],
     "language": "python",
     "metadata": {},
     "outputs": [],
     "prompt_number": 16
    },
    {
     "cell_type": "code",
     "collapsed": false,
     "input": [
      "l = ldacgsmulti.LdaCgsMulti.load(modelpath)"
     ],
     "language": "python",
     "metadata": {},
     "outputs": [
      {
       "output_type": "stream",
       "stream": "stdout",
       "text": [
        "Loading LdaCgsMulti data from /Users/erickpeirson/Dropbox/DigitalHPS/ED Journals/models/20131208_LSA_Gibbs_EvoDevo.npz\n"
       ]
      }
     ],
     "prompt_number": 108
    },
    {
     "cell_type": "code",
     "collapsed": false,
     "input": [
      "papers = pickle.load(open(\"/Users/erickpeirson/Dropbox/DigitalHPS/ED Journals/models/20131208_papers.pickle\", \"r\"))"
     ],
     "language": "python",
     "metadata": {},
     "outputs": [],
     "prompt_number": 98
    },
    {
     "cell_type": "code",
     "collapsed": false,
     "input": [
      "G = nt.authors.coauthors(papers, edge_attribs=['wosid'])"
     ],
     "language": "python",
     "metadata": {},
     "outputs": [],
     "prompt_number": 99
    },
    {
     "cell_type": "code",
     "collapsed": false,
     "input": [
      "len(G.edges())"
     ],
     "language": "python",
     "metadata": {},
     "outputs": [
      {
       "output_type": "pyout",
       "prompt_number": 100,
       "text": [
        "8829"
       ]
      }
     ],
     "prompt_number": 100
    },
    {
     "cell_type": "code",
     "collapsed": false,
     "input": [
      "for i,j,d in G.edges(data=True):\n",
      "    if type(d['wosid']) is list:\n",
      "        G[i][j]['weight'] = float(len(d['wosid']))\n",
      "    else:\n",
      "        #G.remove_edge(i,j)\n",
      "        G[i][j]['weight'] = 1"
     ],
     "language": "python",
     "metadata": {},
     "outputs": [],
     "prompt_number": 101
    },
    {
     "cell_type": "code",
     "collapsed": false,
     "input": [
      "G = nx.compose_all([ g for g in nx.connected_component_subgraphs(G) if len(g) > 5 ])"
     ],
     "language": "python",
     "metadata": {},
     "outputs": [
      {
       "ename": "StopIteration",
       "evalue": "",
       "output_type": "pyerr",
       "traceback": [
        "\u001b[0;31m---------------------------------------------------------------------------\u001b[0m\n\u001b[0;31mStopIteration\u001b[0m                             Traceback (most recent call last)",
        "\u001b[0;32m<ipython-input-30-d7cdba8385e7>\u001b[0m in \u001b[0;36m<module>\u001b[0;34m()\u001b[0m\n\u001b[0;32m----> 1\u001b[0;31m \u001b[0mG\u001b[0m \u001b[0;34m=\u001b[0m \u001b[0mnx\u001b[0m\u001b[0;34m.\u001b[0m\u001b[0mcompose_all\u001b[0m\u001b[0;34m(\u001b[0m\u001b[0;34m[\u001b[0m \u001b[0mg\u001b[0m \u001b[0;32mfor\u001b[0m \u001b[0mg\u001b[0m \u001b[0;32min\u001b[0m \u001b[0mnx\u001b[0m\u001b[0;34m.\u001b[0m\u001b[0mconnected_component_subgraphs\u001b[0m\u001b[0;34m(\u001b[0m\u001b[0mG\u001b[0m\u001b[0;34m)\u001b[0m \u001b[0;32mif\u001b[0m \u001b[0mlen\u001b[0m\u001b[0;34m(\u001b[0m\u001b[0mg\u001b[0m\u001b[0;34m)\u001b[0m \u001b[0;34m>\u001b[0m \u001b[0;36m5\u001b[0m \u001b[0;34m]\u001b[0m\u001b[0;34m)\u001b[0m\u001b[0;34m\u001b[0m\u001b[0m\n\u001b[0m",
        "\u001b[0;32m/Applications/anaconda/lib/python2.7/site-packages/networkx/algorithms/operators/all.pyc\u001b[0m in \u001b[0;36mcompose_all\u001b[0;34m(graphs, name)\u001b[0m\n\u001b[1;32m    120\u001b[0m     \"\"\"\n\u001b[1;32m    121\u001b[0m     \u001b[0mgraphs\u001b[0m \u001b[0;34m=\u001b[0m \u001b[0miter\u001b[0m\u001b[0;34m(\u001b[0m\u001b[0mgraphs\u001b[0m\u001b[0;34m)\u001b[0m\u001b[0;34m\u001b[0m\u001b[0m\n\u001b[0;32m--> 122\u001b[0;31m     \u001b[0mC\u001b[0m \u001b[0;34m=\u001b[0m \u001b[0mnext\u001b[0m\u001b[0;34m(\u001b[0m\u001b[0mgraphs\u001b[0m\u001b[0;34m)\u001b[0m\u001b[0;34m\u001b[0m\u001b[0m\n\u001b[0m\u001b[1;32m    123\u001b[0m     \u001b[0;32mfor\u001b[0m \u001b[0mH\u001b[0m \u001b[0;32min\u001b[0m \u001b[0mgraphs\u001b[0m\u001b[0;34m:\u001b[0m\u001b[0;34m\u001b[0m\u001b[0m\n\u001b[1;32m    124\u001b[0m         \u001b[0mC\u001b[0m \u001b[0;34m=\u001b[0m \u001b[0mnx\u001b[0m\u001b[0;34m.\u001b[0m\u001b[0mcompose\u001b[0m\u001b[0;34m(\u001b[0m\u001b[0mC\u001b[0m\u001b[0;34m,\u001b[0m \u001b[0mH\u001b[0m\u001b[0;34m,\u001b[0m \u001b[0mname\u001b[0m\u001b[0;34m=\u001b[0m\u001b[0mname\u001b[0m\u001b[0;34m)\u001b[0m\u001b[0;34m\u001b[0m\u001b[0m\n",
        "\u001b[0;31mStopIteration\u001b[0m: "
       ]
      }
     ],
     "prompt_number": 30
    },
    {
     "cell_type": "code",
     "collapsed": false,
     "input": [
      "G = nx.connected_component_subgraphs(G)[0]"
     ],
     "language": "python",
     "metadata": {},
     "outputs": [],
     "prompt_number": 102
    },
    {
     "cell_type": "code",
     "collapsed": false,
     "input": [
      "N = len(G.nodes())\n",
      "print N"
     ],
     "language": "python",
     "metadata": {},
     "outputs": [
      {
       "output_type": "stream",
       "stream": "stdout",
       "text": [
        "1656\n"
       ]
      }
     ],
     "prompt_number": 103
    },
    {
     "cell_type": "code",
     "collapsed": false,
     "input": [
      "Z = 40"
     ],
     "language": "python",
     "metadata": {},
     "outputs": [],
     "prompt_number": 104
    },
    {
     "cell_type": "code",
     "collapsed": false,
     "input": [
      "author_topics = np.zeros((N, Z))"
     ],
     "language": "python",
     "metadata": {},
     "outputs": [],
     "prompt_number": 105
    },
    {
     "cell_type": "code",
     "collapsed": false,
     "input": [
      "at = {}"
     ],
     "language": "python",
     "metadata": {},
     "outputs": [],
     "prompt_number": 109
    },
    {
     "cell_type": "code",
     "collapsed": false,
     "input": [
      "for q in xrange(len(papers)):\n",
      "    p = papers[q]\n",
      "    pa = [ ' '.join([p['aulast'][i], p['auinit'][i]]) for i in xrange(len(p['aulast'])) ]\n",
      "    for a in pa:\n",
      "        if a in G.nodes():\n",
      "            try:\n",
      "                at[a].append(l.doc_top[q,:])\n",
      "            except KeyError:\n",
      "                at[a] = [ l.doc_top[q,:] ]"
     ],
     "language": "python",
     "metadata": {},
     "outputs": [],
     "prompt_number": 110
    },
    {
     "cell_type": "code",
     "collapsed": false,
     "input": [
      "q = 0\n",
      "for a,values in at.iteritems():\n",
      "    if len(values) > 1:\n",
      "        varray = np.array(values)\n",
      "        V = np.zeros((Z))\n",
      "        for i in xrange(Z):\n",
      "            V[i] = np.sum(varray[:,i])\n",
      "    else:\n",
      "        V = values[0]\n",
      "    \n",
      "    #for r in xrange(len(V)):\n",
      "    #    if V[r] < 0.05:\n",
      "    #        V[r] = 0.0000000000001\n",
      "\n",
      "    val = np.array([ v/np.sum(V) for v in V])            \n",
      "    author_topics[q,:] = val\n",
      "    q+=1"
     ],
     "language": "python",
     "metadata": {},
     "outputs": [],
     "prompt_number": 111
    },
    {
     "cell_type": "code",
     "collapsed": false,
     "input": [
      "np.sum(author_topics[0,:])"
     ],
     "language": "python",
     "metadata": {},
     "outputs": [
      {
       "output_type": "pyout",
       "prompt_number": 112,
       "text": [
        "0.99999999999999956"
       ]
      }
     ],
     "prompt_number": 112
    },
    {
     "cell_type": "code",
     "collapsed": false,
     "input": [
      "G_ = nx.Graph()"
     ],
     "language": "python",
     "metadata": {},
     "outputs": [],
     "prompt_number": 113
    },
    {
     "cell_type": "code",
     "collapsed": false,
     "input": [
      "adict = {}\n",
      "adict_ = {}\n",
      "q = 0\n",
      "for a in at.keys():\n",
      "    adict[a] = q\n",
      "    adict_[q] = a\n",
      "    q += 1"
     ],
     "language": "python",
     "metadata": {},
     "outputs": [],
     "prompt_number": 114
    },
    {
     "cell_type": "code",
     "collapsed": false,
     "input": [
      "for i,j,d in G.edges(data=True):\n",
      "    G_.add_edge(adict[i],adict[j],weight=d['weight'])"
     ],
     "language": "python",
     "metadata": {},
     "outputs": [],
     "prompt_number": 115
    },
    {
     "cell_type": "code",
     "collapsed": false,
     "input": [
      "len(G.edges())"
     ],
     "language": "python",
     "metadata": {},
     "outputs": [
      {
       "output_type": "pyout",
       "prompt_number": 116,
       "text": [
        "6027"
       ]
      }
     ],
     "prompt_number": 116
    },
    {
     "cell_type": "code",
     "collapsed": false,
     "input": [
      "G_.edges(data=True)[0]"
     ],
     "language": "python",
     "metadata": {},
     "outputs": [
      {
       "output_type": "pyout",
       "prompt_number": 117,
       "text": [
        "(0, 362, {'weight': 1})"
       ]
      }
     ],
     "prompt_number": 117
    },
    {
     "cell_type": "code",
     "collapsed": false,
     "input": [
      "G = G_"
     ],
     "language": "python",
     "metadata": {},
     "outputs": [],
     "prompt_number": 118
    },
    {
     "cell_type": "code",
     "collapsed": false,
     "input": [
      "del l"
     ],
     "language": "python",
     "metadata": {},
     "outputs": [],
     "prompt_number": 119
    },
    {
     "cell_type": "code",
     "collapsed": false,
     "input": [
      "del G_"
     ],
     "language": "python",
     "metadata": {},
     "outputs": [],
     "prompt_number": 120
    },
    {
     "cell_type": "code",
     "collapsed": false,
     "input": [
      "del papers"
     ],
     "language": "python",
     "metadata": {},
     "outputs": [],
     "prompt_number": 121
    },
    {
     "cell_type": "code",
     "collapsed": false,
     "input": [
      "del cc"
     ],
     "language": "python",
     "metadata": {},
     "outputs": [
      {
       "ename": "NameError",
       "evalue": "name 'cc' is not defined",
       "output_type": "pyerr",
       "traceback": [
        "\u001b[0;31m---------------------------------------------------------------------------\u001b[0m\n\u001b[0;31mNameError\u001b[0m                                 Traceback (most recent call last)",
        "\u001b[0;32m<ipython-input-258-14aa53675de0>\u001b[0m in \u001b[0;36m<module>\u001b[0;34m()\u001b[0m\n\u001b[0;32m----> 1\u001b[0;31m \u001b[0;32mdel\u001b[0m \u001b[0mcc\u001b[0m\u001b[0;34m\u001b[0m\u001b[0m\n\u001b[0m",
        "\u001b[0;31mNameError\u001b[0m: name 'cc' is not defined"
       ]
      }
     ],
     "prompt_number": 258
    },
    {
     "cell_type": "code",
     "collapsed": false,
     "input": [],
     "language": "python",
     "metadata": {},
     "outputs": []
    }
   ],
   "metadata": {}
  }
 ]
}